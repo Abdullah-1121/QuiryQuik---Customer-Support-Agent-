{
  "nbformat": 4,
  "nbformat_minor": 0,
  "metadata": {
    "colab": {
      "provenance": []
    },
    "kernelspec": {
      "name": "python3",
      "display_name": "Python 3"
    },
    "language_info": {
      "name": "python"
    }
  },
  "cells": [
    {
      "cell_type": "markdown",
      "source": [
        "# **QueryQuik**\n",
        "## An Intelligent Customer Support Agent"
      ],
      "metadata": {
        "id": "EEaOIxY62pLf"
      }
    },
    {
      "cell_type": "code",
      "execution_count": 1,
      "metadata": {
        "id": "KxfWvwOF2lUr"
      },
      "outputs": [],
      "source": [
        "%%capture --no-stderr\n",
        "%pip install --quiet -U langgraph langchain-google-genai langchain_community langchain_core"
      ]
    },
    {
      "cell_type": "code",
      "source": [
        "from google.colab import userdata\n",
        "gemini_api_key = userdata.get('GEMINI_API_KEY')"
      ],
      "metadata": {
        "id": "EbYGNlEJ3LWk"
      },
      "execution_count": 2,
      "outputs": []
    },
    {
      "cell_type": "code",
      "source": [
        "from langchain_google_genai import ChatGoogleGenerativeAI\n",
        "model = ChatGoogleGenerativeAI(model = 'gemini-1.5-flash' , api_key=gemini_api_key , temprature = 0.2)"
      ],
      "metadata": {
        "id": "D3ydTGVW3Ue7"
      },
      "execution_count": 3,
      "outputs": []
    },
    {
      "cell_type": "code",
      "source": [
        "from typing_extensions import TypedDict\n",
        "class State(TypedDict):\n",
        "  query : str\n",
        "  category : str\n",
        "  sentiment : str\n",
        "  response : str"
      ],
      "metadata": {
        "id": "2iKx-JFl3nTr"
      },
      "execution_count": 4,
      "outputs": []
    },
    {
      "cell_type": "code",
      "source": [
        "def Categorize(state:State):\n",
        "  prompt = '''Categorize this user query into one of these categories: General, Technical, Billings. If the query doesn't fit clearly into any of these, respond with 'General'. Query: {query}'''\n",
        "  query = state['query']\n",
        "  category = model.predict(prompt.format(query=query))\n",
        "  if category == '':\n",
        "    return {\"category\": \"General\"}\n",
        "  return {\"category\" : category}\n",
        "\n",
        "def Sentiment_Analyzer(state:State):\n",
        "  prompt =   '''Analyze the sentiment of the following customer query.\n",
        "     Respond with 'Negative' if the person is angry, frustrated, or using strong language.\n",
        "     Respond with 'Neutral' if the query is neither very positive nor very negative.\n",
        "     Respond with 'Positive' if the query is positive and friendly. If the sentiment is unclear, respond with 'Negative'.\n",
        "     Query: {query}'''\n",
        "\n",
        "  query = state['query']\n",
        "  sentiment = model.predict(prompt.format(query=query))\n",
        "  if sentiment == '':\n",
        "    return {\"sentiment\" : \"Negative\"}\n",
        "\n",
        "  return {\"sentiment\" : sentiment}\n",
        "def Escalate (state : State):\n",
        "  # We will redirect user to a human agent if the sentiment is negative\n",
        "  return  {\"response\": \"This query has been escalated to a human agent due to its negative sentiment.\"}\n",
        "def General_Support(state:State):\n",
        "  prompt = '''Provide a General Support Response to this query , query : {query} '''\n",
        "  query = state['query']\n",
        "  response = model.predict(prompt.format(query=query))\n",
        "  return {\"response\" : response}\n",
        "def Technical_Support(state:State):\n",
        "  prompt = '''Provide a technical  Support Response to this query , query : {query} '''\n",
        "  query = state['query']\n",
        "  response = model.predict(prompt.format(query=query))\n",
        "  return {\"response\" : response}\n",
        "def Billings_Support(state:State):\n",
        "  prompt = '''Provide a General Support Response to this query , query : {query} '''\n",
        "  query = state['query']\n",
        "  response = model.predict(prompt.format(query=query))\n",
        "  return {\"response\" : response}\n",
        "def Decision(state:State):\n",
        "  sentiment = state['sentiment']\n",
        "  if sentiment == \"Negative\" :\n",
        "    return \"Escalate\"\n",
        "  elif state['category'] == 'General' :\n",
        "    return \"General_Support\"\n",
        "  elif state['category'] == 'Technical' :\n",
        "    return \"Technical_Support\"\n",
        "  elif state['category']== 'Billings':\n",
        "    return \"Billings_Support\"\n",
        "  else :\n",
        "    return \"General_Support\"\n"
      ],
      "metadata": {
        "id": "8GO2hP1M33TE"
      },
      "execution_count": 67,
      "outputs": []
    },
    {
      "cell_type": "code",
      "source": [
        "from IPython.display import Image, display\n",
        "from langgraph.graph import START, END, StateGraph\n",
        "from langgraph.checkpoint.memory import MemorySaver\n",
        "from langchain_core.messages import AIMessage, HumanMessage, SystemMessage\n",
        "\n",
        "builder = StateGraph(State)\n",
        "builder.add_node('Categorize' , Categorize)\n",
        "builder.add_node('Sentiment_Analyzer' , Sentiment_Analyzer)\n",
        "builder.add_node('Escalate' , Escalate)\n",
        "builder.add_node('General_Support' , General_Support)\n",
        "builder.add_node('Technical_Support' , Technical_Support)\n",
        "builder.add_node('Billings_Support' , Billings_Support)\n",
        "\n",
        "builder.add_edge(START , 'Categorize')\n",
        "builder.add_edge('Categorize' , 'Sentiment_Analyzer')\n",
        "builder.add_conditional_edges('Sentiment_Analyzer' ,Decision ,  {\n",
        "        \"Technical_Support\": \"Technical_Support\",\n",
        "        \"Billings_Support\": \"Billings_Support\",\n",
        "        \"General_Support\": \"General_Support\",\n",
        "        \"Escalate\": \"Escalate\"\n",
        "    }   )\n",
        "\n",
        "builder.add_edge(\"Technical_Support\", END)\n",
        "builder.add_edge(\"Billings_Support\", END)\n",
        "builder.add_edge(\"General_Support\", END)\n",
        "builder.add_edge(\"Escalate\", END)\n",
        "\n",
        "memory = MemorySaver()\n",
        "\n",
        "agent = builder.compile()\n",
        "\n"
      ],
      "metadata": {
        "id": "LNIAY8hn8Bq0"
      },
      "execution_count": 68,
      "outputs": []
    },
    {
      "cell_type": "code",
      "source": [
        "display(Image(agent.get_graph(xray=5).draw_mermaid_png()))"
      ],
      "metadata": {
        "colab": {
          "base_uri": "https://localhost:8080/",
          "height": 449
        },
        "id": "fV72StjH-M9M",
        "outputId": "311882fe-6e27-4905-e6b7-f790627ff1b3"
      },
      "execution_count": 69,
      "outputs": [
        {
          "output_type": "display_data",
          "data": {
            "image/jpeg": "[encoded data removed]",
            "text/plain": [
              "<IPython.core.display.Image object>"
            ]
          },
          "metadata": {}
        }
      ]
    },
    {
      "cell_type": "code",
      "source": [
        "query = \"HI ! j  \"\n",
        "result = agent.invoke({\"query\": query})\n",
        "print(f\"Query: {query}\")\n",
        "print(f\"Category: {result['category']}\")\n",
        "print(f\"Sentiment: {result['sentiment']}\")\n",
        "print(f\"Response: {result['response']}\")\n",
        "print(\"\\n\")"
      ],
      "metadata": {
        "colab": {
          "base_uri": "https://localhost:8080/"
        },
        "id": "FPo5c4lv_7o2",
        "outputId": "e15ad2f4-5019-4522-f1f4-46a277f3be90",
        "collapsed": true
      },
      "execution_count": 78,
      "outputs": [
        {
          "output_type": "stream",
          "name": "stdout",
          "text": [
            "Query: HI ! can you help me with payment processing   \n",
            "Category: General \n",
            "\n",
            "Sentiment: Neutral \n",
            "\n",
            "Response: Hi there! I understand you're looking for help with payment processing. To assist you better, could you please tell me more about what you need help with? For example:\n",
            "\n",
            "* **What specific payment processing issue are you facing?** (e.g., declined payments, transaction errors, account setup)\n",
            "* **What platform or service are you using for payment processing?** (e.g., Stripe, PayPal, Shopify)\n",
            "* **What is the nature of your business or transaction?** (e.g., online store, subscription service, one-time payment)\n",
            "\n",
            "The more information you provide, the better I can understand your situation and offer relevant assistance. \n",
            "\n",
            "\n",
            "\n"
          ]
        }
      ]
    }
  ]
}